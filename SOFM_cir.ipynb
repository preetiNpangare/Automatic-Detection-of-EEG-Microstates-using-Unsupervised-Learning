{
  "nbformat": 4,
  "nbformat_minor": 0,
  "metadata": {
    "colab": {
      "name": "SOFM_cir.ipynb",
      "provenance": [],
      "collapsed_sections": []
    },
    "kernelspec": {
      "display_name": "Python 3",
      "name": "python3"
    }
  },
  "cells": [
    {
      "cell_type": "code",
      "metadata": {
        "id": "Re60zZWuBOpN",
        "colab": {
          "base_uri": "https://localhost:8080/"
        },
        "outputId": "dc8b594a-4238-4a0f-ceb0-e6d9565f0ea5"
      },
      "source": [
        "import sklearn\n",
        "import cv2\n",
        "import os\n",
        "import pickle\n",
        "import math\n",
        "import sys\n",
        "%matplotlib inline\n",
        "import matplotlib.pyplot as plt\n",
        "import numpy as np\n",
        "!pip install mne\n",
        "import mne\n",
        "import pandas as pd\n",
        "!pip install neupy\n",
        "import neupy\n",
        "from sklearn.cluster import KMeans\n",
        "from neupy import algorithms\n",
        "import seaborn as sns\n",
        "from scipy.signal import find_peaks\n",
        "from mne.utils import logger, verbose\n",
        "import random"
      ],
      "execution_count": null,
      "outputs": [
        {
          "output_type": "stream",
          "text": [
            "Collecting mne\n",
            "\u001b[?25l  Downloading https://files.pythonhosted.org/packages/60/f7/2bf5de3fad42b66d00ee27539bc3be0260b4e66fdecc12f740cdf2daf2e7/mne-0.23.0-py3-none-any.whl (6.9MB)\n",
            "\u001b[K     |████████████████████████████████| 7.0MB 3.2MB/s \n",
            "\u001b[?25hRequirement already satisfied: scipy>=1.1.0 in /usr/local/lib/python3.7/dist-packages (from mne) (1.4.1)\n",
            "Requirement already satisfied: numpy>=1.15.4 in /usr/local/lib/python3.7/dist-packages (from mne) (1.19.5)\n",
            "Installing collected packages: mne\n",
            "Successfully installed mne-0.23.0\n",
            "Collecting neupy\n",
            "\u001b[?25l  Downloading https://files.pythonhosted.org/packages/21/be/19082cbe9a6c76dd909255341587f0b487cd3e9d32d44debda013d2accd1/neupy-0.8.2-py2.py3-none-any.whl (226kB)\n",
            "\u001b[K     |████████████████████████████████| 235kB 3.8MB/s \n",
            "\u001b[?25hRequirement already satisfied: matplotlib>=1.5.1 in /usr/local/lib/python3.7/dist-packages (from neupy) (3.2.2)\n",
            "Requirement already satisfied: scipy>=0.19.0 in /usr/local/lib/python3.7/dist-packages (from neupy) (1.4.1)\n",
            "Collecting progressbar2==3.34.3\n",
            "  Downloading https://files.pythonhosted.org/packages/87/31/b984e17bcc7491c1baeda3906fe3abc14cb5cd5dbd046ab46d9fc7a2edfd/progressbar2-3.34.3-py2.py3-none-any.whl\n",
            "Requirement already satisfied: numpy>=1.13.3 in /usr/local/lib/python3.7/dist-packages (from neupy) (1.19.5)\n",
            "Requirement already satisfied: h5py in /usr/local/lib/python3.7/dist-packages (from neupy) (2.10.0)\n",
            "Collecting tensorflow<1.14.0,>=1.10.1\n",
            "\u001b[?25l  Downloading https://files.pythonhosted.org/packages/bc/70/45d3b9fab768215a2055c7819d39547a4b0b7401b4583094068741aff99b/tensorflow-1.13.2-cp37-cp37m-manylinux1_x86_64.whl (92.7MB)\n",
            "\u001b[K     |████████████████████████████████| 92.7MB 44kB/s \n",
            "\u001b[?25hCollecting graphviz==0.5.1\n",
            "  Downloading https://files.pythonhosted.org/packages/55/8d/18e45d3f57adfde20ac831a5ba7144b9e643185e05eb0a02b6f22d076752/graphviz-0.5.1-py2.py3-none-any.whl\n",
            "Requirement already satisfied: pyparsing!=2.0.4,!=2.1.2,!=2.1.6,>=2.0.1 in /usr/local/lib/python3.7/dist-packages (from matplotlib>=1.5.1->neupy) (2.4.7)\n",
            "Requirement already satisfied: kiwisolver>=1.0.1 in /usr/local/lib/python3.7/dist-packages (from matplotlib>=1.5.1->neupy) (1.3.1)\n",
            "Requirement already satisfied: cycler>=0.10 in /usr/local/lib/python3.7/dist-packages (from matplotlib>=1.5.1->neupy) (0.10.0)\n",
            "Requirement already satisfied: python-dateutil>=2.1 in /usr/local/lib/python3.7/dist-packages (from matplotlib>=1.5.1->neupy) (2.8.1)\n",
            "Requirement already satisfied: python-utils>=2.1.0 in /usr/local/lib/python3.7/dist-packages (from progressbar2==3.34.3->neupy) (2.5.6)\n",
            "Requirement already satisfied: six in /usr/local/lib/python3.7/dist-packages (from h5py->neupy) (1.15.0)\n",
            "Collecting tensorflow-estimator<1.14.0rc0,>=1.13.0\n",
            "\u001b[?25l  Downloading https://files.pythonhosted.org/packages/bb/48/13f49fc3fa0fdf916aa1419013bb8f2ad09674c275b4046d5ee669a46873/tensorflow_estimator-1.13.0-py2.py3-none-any.whl (367kB)\n",
            "\u001b[K     |████████████████████████████████| 368kB 44.6MB/s \n",
            "\u001b[?25hRequirement already satisfied: grpcio>=1.8.6 in /usr/local/lib/python3.7/dist-packages (from tensorflow<1.14.0,>=1.10.1->neupy) (1.32.0)\n",
            "Requirement already satisfied: astor>=0.6.0 in /usr/local/lib/python3.7/dist-packages (from tensorflow<1.14.0,>=1.10.1->neupy) (0.8.1)\n",
            "Requirement already satisfied: keras-preprocessing>=1.0.5 in /usr/local/lib/python3.7/dist-packages (from tensorflow<1.14.0,>=1.10.1->neupy) (1.1.2)\n",
            "Requirement already satisfied: termcolor>=1.1.0 in /usr/local/lib/python3.7/dist-packages (from tensorflow<1.14.0,>=1.10.1->neupy) (1.1.0)\n",
            "Requirement already satisfied: wheel>=0.26 in /usr/local/lib/python3.7/dist-packages (from tensorflow<1.14.0,>=1.10.1->neupy) (0.36.2)\n",
            "Requirement already satisfied: protobuf>=3.6.1 in /usr/local/lib/python3.7/dist-packages (from tensorflow<1.14.0,>=1.10.1->neupy) (3.12.4)\n",
            "Collecting keras-applications>=1.0.6\n",
            "\u001b[?25l  Downloading https://files.pythonhosted.org/packages/71/e3/19762fdfc62877ae9102edf6342d71b28fbfd9dea3d2f96a882ce099b03f/Keras_Applications-1.0.8-py3-none-any.whl (50kB)\n",
            "\u001b[K     |████████████████████████████████| 51kB 4.8MB/s \n",
            "\u001b[?25hRequirement already satisfied: absl-py>=0.1.6 in /usr/local/lib/python3.7/dist-packages (from tensorflow<1.14.0,>=1.10.1->neupy) (0.12.0)\n",
            "Requirement already satisfied: gast>=0.2.0 in /usr/local/lib/python3.7/dist-packages (from tensorflow<1.14.0,>=1.10.1->neupy) (0.3.3)\n",
            "Collecting tensorboard<1.14.0,>=1.13.0\n",
            "\u001b[?25l  Downloading https://files.pythonhosted.org/packages/0f/39/bdd75b08a6fba41f098b6cb091b9e8c7a80e1b4d679a581a0ccd17b10373/tensorboard-1.13.1-py3-none-any.whl (3.2MB)\n",
            "\u001b[K     |████████████████████████████████| 3.2MB 30.5MB/s \n",
            "\u001b[?25hCollecting mock>=2.0.0\n",
            "  Downloading https://files.pythonhosted.org/packages/5c/03/b7e605db4a57c0f6fba744b11ef3ddf4ddebcada35022927a2b5fc623fdf/mock-4.0.3-py3-none-any.whl\n",
            "Requirement already satisfied: setuptools in /usr/local/lib/python3.7/dist-packages (from protobuf>=3.6.1->tensorflow<1.14.0,>=1.10.1->neupy) (56.0.0)\n",
            "Requirement already satisfied: markdown>=2.6.8 in /usr/local/lib/python3.7/dist-packages (from tensorboard<1.14.0,>=1.13.0->tensorflow<1.14.0,>=1.10.1->neupy) (3.3.4)\n",
            "Requirement already satisfied: werkzeug>=0.11.15 in /usr/local/lib/python3.7/dist-packages (from tensorboard<1.14.0,>=1.13.0->tensorflow<1.14.0,>=1.10.1->neupy) (1.0.1)\n",
            "Requirement already satisfied: importlib-metadata; python_version < \"3.8\" in /usr/local/lib/python3.7/dist-packages (from markdown>=2.6.8->tensorboard<1.14.0,>=1.13.0->tensorflow<1.14.0,>=1.10.1->neupy) (3.10.1)\n",
            "Requirement already satisfied: typing-extensions>=3.6.4; python_version < \"3.8\" in /usr/local/lib/python3.7/dist-packages (from importlib-metadata; python_version < \"3.8\"->markdown>=2.6.8->tensorboard<1.14.0,>=1.13.0->tensorflow<1.14.0,>=1.10.1->neupy) (3.7.4.3)\n",
            "Requirement already satisfied: zipp>=0.5 in /usr/local/lib/python3.7/dist-packages (from importlib-metadata; python_version < \"3.8\"->markdown>=2.6.8->tensorboard<1.14.0,>=1.13.0->tensorflow<1.14.0,>=1.10.1->neupy) (3.4.1)\n",
            "Installing collected packages: progressbar2, mock, tensorflow-estimator, keras-applications, tensorboard, tensorflow, graphviz, neupy\n",
            "  Found existing installation: progressbar2 3.38.0\n",
            "    Uninstalling progressbar2-3.38.0:\n",
            "      Successfully uninstalled progressbar2-3.38.0\n",
            "  Found existing installation: tensorflow-estimator 2.4.0\n",
            "    Uninstalling tensorflow-estimator-2.4.0:\n",
            "      Successfully uninstalled tensorflow-estimator-2.4.0\n",
            "  Found existing installation: tensorboard 2.4.1\n",
            "    Uninstalling tensorboard-2.4.1:\n",
            "      Successfully uninstalled tensorboard-2.4.1\n",
            "  Found existing installation: tensorflow 2.4.1\n",
            "    Uninstalling tensorflow-2.4.1:\n",
            "      Successfully uninstalled tensorflow-2.4.1\n",
            "  Found existing installation: graphviz 0.10.1\n",
            "    Uninstalling graphviz-0.10.1:\n",
            "      Successfully uninstalled graphviz-0.10.1\n",
            "Successfully installed graphviz-0.5.1 keras-applications-1.0.8 mock-4.0.3 neupy-0.8.2 progressbar2-3.34.3 tensorboard-1.13.1 tensorflow-1.13.2 tensorflow-estimator-1.13.0\n"
          ],
          "name": "stdout"
        },
        {
          "output_type": "stream",
          "text": [
            "/usr/local/lib/python3.7/dist-packages/tensorflow/python/framework/dtypes.py:526: FutureWarning: Passing (type, 1) or '1type' as a synonym of type is deprecated; in a future version of numpy, it will be understood as (type, (1,)) / '(1,)type'.\n",
            "  _np_qint8 = np.dtype([(\"qint8\", np.int8, 1)])\n",
            "/usr/local/lib/python3.7/dist-packages/tensorflow/python/framework/dtypes.py:527: FutureWarning: Passing (type, 1) or '1type' as a synonym of type is deprecated; in a future version of numpy, it will be understood as (type, (1,)) / '(1,)type'.\n",
            "  _np_quint8 = np.dtype([(\"quint8\", np.uint8, 1)])\n",
            "/usr/local/lib/python3.7/dist-packages/tensorflow/python/framework/dtypes.py:528: FutureWarning: Passing (type, 1) or '1type' as a synonym of type is deprecated; in a future version of numpy, it will be understood as (type, (1,)) / '(1,)type'.\n",
            "  _np_qint16 = np.dtype([(\"qint16\", np.int16, 1)])\n",
            "/usr/local/lib/python3.7/dist-packages/tensorflow/python/framework/dtypes.py:529: FutureWarning: Passing (type, 1) or '1type' as a synonym of type is deprecated; in a future version of numpy, it will be understood as (type, (1,)) / '(1,)type'.\n",
            "  _np_quint16 = np.dtype([(\"quint16\", np.uint16, 1)])\n",
            "/usr/local/lib/python3.7/dist-packages/tensorflow/python/framework/dtypes.py:530: FutureWarning: Passing (type, 1) or '1type' as a synonym of type is deprecated; in a future version of numpy, it will be understood as (type, (1,)) / '(1,)type'.\n",
            "  _np_qint32 = np.dtype([(\"qint32\", np.int32, 1)])\n",
            "/usr/local/lib/python3.7/dist-packages/tensorflow/python/framework/dtypes.py:535: FutureWarning: Passing (type, 1) or '1type' as a synonym of type is deprecated; in a future version of numpy, it will be understood as (type, (1,)) / '(1,)type'.\n",
            "  np_resource = np.dtype([(\"resource\", np.ubyte, 1)])\n"
          ],
          "name": "stderr"
        }
      ]
    },
    {
      "cell_type": "code",
      "metadata": {
        "id": "7-U2e0xxGrrR",
        "colab": {
          "base_uri": "https://localhost:8080/"
        },
        "outputId": "c1f684fe-3e9e-434c-9802-8346d45fc7e9"
      },
      "source": [
        "from google.colab import drive\n",
        "drive.mount('/content/drive')"
      ],
      "execution_count": null,
      "outputs": [
        {
          "output_type": "stream",
          "text": [
            "Mounted at /content/drive\n"
          ],
          "name": "stdout"
        }
      ]
    },
    {
      "cell_type": "code",
      "metadata": {
        "id": "L0rNLus5DQRL",
        "colab": {
          "base_uri": "https://localhost:8080/"
        },
        "outputId": "d356cf2b-2bd2-4b43-8aff-43970ddd55d0"
      },
      "source": [
        "with open('/content/drive/MyDrive/s01.dat', 'rb') as file: x = pickle.load(file, encoding='latin1')\n",
        "data_ = x['data']\n",
        "eeg_data=data_[:,0:32,:]\n",
        "print(eeg_data.shape)"
      ],
      "execution_count": null,
      "outputs": [
        {
          "output_type": "stream",
          "text": [
            "(40, 32, 8064)\n"
          ],
          "name": "stdout"
        }
      ]
    },
    {
      "cell_type": "code",
      "metadata": {
        "id": "GhOthDTfO_P6",
        "colab": {
          "base_uri": "https://localhost:8080/",
          "height": 300
        },
        "outputId": "ba750316-e24c-4ca7-eca6-b06ab6211dfb"
      },
      "source": [
        "#gfp calculation\n",
        "gfp=[]\n",
        "for video in range(40):\n",
        "  RMSE_array=[]\n",
        "  for i in range(len(eeg_data[0][0])):\n",
        "    v_mean=0\n",
        "    for j in range(len(eeg_data[0])):\n",
        "      v_mean=v_mean+eeg_data[video,j,i]\n",
        "    v_mean=v_mean/len(eeg_data[0])\n",
        "    squared_error=0\n",
        "    for j in range(len(eeg_data[0])):\n",
        "      squared_error=squared_error+(eeg_data[video,j,i]-v_mean)**2\n",
        "    RMSE=math.sqrt(squared_error/len(eeg_data[0]))\n",
        "    RMSE_array.append(RMSE)\n",
        "  #print(len(RMSE_array))\n",
        "  gfp.append(RMSE_array)\n",
        "gfp=np.array(gfp)\n",
        "#print(gfp.shape)\n",
        "gfp=gfp[0]\n",
        "gfp=np.transpose(gfp)\n",
        "print(gfp)\n",
        "plt.plot([i for i in range(8064)], gfp)"
      ],
      "execution_count": null,
      "outputs": [
        {
          "output_type": "stream",
          "text": [
            "[3.1462183  4.30571133 3.87961619 ... 3.18765695 4.04046104 4.35953958]\n"
          ],
          "name": "stdout"
        },
        {
          "output_type": "execute_result",
          "data": {
            "text/plain": [
              "[<matplotlib.lines.Line2D at 0x7fe11e974a10>]"
            ]
          },
          "metadata": {
            "tags": []
          },
          "execution_count": 4
        },
        {
          "output_type": "display_data",
          "data": {
            "image/png": "[encoded data removed]",
            "text/plain": [
              "<Figure size 432x288 with 1 Axes>"
            ]
          },
          "metadata": {
            "tags": [],
            "needs_background": "light"
          }
        }
      ]
    },
    {
      "cell_type": "code",
      "metadata": {
        "id": "4BhWOOcwW9J6"
      },
      "source": [
        "Fp1,AF3,F3,F7,FC5,FC1,C3,T7,CP5,CP1,P3,P7,PO3,O1,Oz,Pz,Fp2,AF4,Fz,F4,F8,FC6,FC2,Cz,C4,T8,CP6,CP2,P4,P8,PO4,O2 = eeg_data[0][:, 1]\n",
        "col = ['Fp1','AF3','F3','F7','FC5','FC1','C3','T7','CP5','CP1','P3','P7','PO3','O1','Oz','Pz','Fp2','AF4','Fz','F4','F8','FC6','FC2','Cz','C4','T8','CP6','CP2','P4','P8','PO4','O2']\n",
        "m = [[0, 0, 0, Fp1, 0, Fp2, 0 , 0, 0],\n",
        "    [0, 0, 0, AF3, 0, AF4, 0, 0, 0],\n",
        "    [F7, 0, F3, 0, Fz, 0, F4, 0, F8],\n",
        "    [0, FC5, 0, FC1, 0, FC2, 0, FC6, 0],\n",
        "    [T7, 0, C3, 0, Cz, 0, C4, 0, T8],\n",
        "    [0, CP5, 0, CP1, 0, CP2, 0, CP6, 0],\n",
        "    [P7, 0, P3, 0, Pz, 0, P4, 0, P8],\n",
        "    [0, 0, 0, PO3, 0, PO4, 0, 0, 0],\n",
        "    [0, 0, 0, O1, Oz, O2, 0, 0, 0]]\n",
        "\n",
        "info = np.array([[i, j] for i in range(9) for j in range(9) if m[i][j] != 0])"
      ],
      "execution_count": null,
      "outputs": []
    },
    {
      "cell_type": "code",
      "metadata": {
        "id": "ArH6bWkRfSRs"
      },
      "source": [
        "eeg_data=data_[0,0:32,:]"
      ],
      "execution_count": null,
      "outputs": []
    },
    {
      "cell_type": "code",
      "metadata": {
        "id": "kuwbFDcBXHKV"
      },
      "source": [
        "def _corr_vectors(A, B, axis=0):\n",
        "    \"\"\"Compute pairwise correlation of multiple pairs of vectors.\n",
        "    Fast way to compute correlation of multiple pairs of vectors without\n",
        "    computing all pairs as would with corr(A,B). Borrowed from Oli at Stack\n",
        "    overflow. Note the resulting coefficients vary slightly from the ones\n",
        "    obtained from corr due differences in the order of the calculations.\n",
        "    (Differences are of a magnitude of 1e-9 to 1e-17 depending of the tested\n",
        "    data).\n",
        "    Parameters\n",
        "    ----------\n",
        "    A : ndarray, shape (n, m)\n",
        "        The first collection of vectors\n",
        "    B : ndarray, shape (n, m)\n",
        "        The second collection of vectors\n",
        "    axis : int\n",
        "        The axis that contains the elements of each vector. Defaults to 0.\n",
        "    Returns\n",
        "    -------\n",
        "    corr : ndarray, shape (m,)\n",
        "        For each pair of vectors, the correlation between them.\n",
        "    \"\"\"\n",
        "    An = A - np.mean(A, axis=axis)\n",
        "    Bn = B - np.mean(B, axis=axis)\n",
        "    An /= np.linalg.norm(An, axis=axis)\n",
        "    Bn /= np.linalg.norm(Bn, axis=axis)\n",
        "    return np.sum(An * Bn, axis=axis)"
      ],
      "execution_count": null,
      "outputs": []
    },
    {
      "cell_type": "code",
      "metadata": {
        "id": "lb_-HimoBtJu"
      },
      "source": [
        "def plot_maps(maps, info):\n",
        "    \"\"\"Plot prototypical microstate maps.\n",
        "    Parameters\n",
        "    ----------\n",
        "    maps : ndarray, shape (n_channels, n_maps)\n",
        "        The prototypical microstate maps.\n",
        "    info : instance of mne.io.Info\n",
        "        The info structure of the dataset, containing the location of the\n",
        "        sensors.\n",
        "    \"\"\"\n",
        "    for i, map in enumerate(maps):\n",
        "        plt.figure(figsize=(10,10))\n",
        "        plt.subplot(1, len(maps), i + 1)\n",
        "        mne.viz.plot_topomap(map, info)\n",
        "        #plt.title('%d' % i)"
      ],
      "execution_count": null,
      "outputs": []
    },
    {
      "cell_type": "code",
      "metadata": {
        "id": "hw9MOmIRZsqB"
      },
      "source": [
        "def locmax(x):\n",
        "    \"\"\"Get local maxima of 1D-array\n",
        "    Args:\n",
        "        x: numeric sequence\n",
        "    Returns:\n",
        "        m: list, 1D-indices of local maxima\n",
        "    \"\"\"\n",
        "\n",
        "    dx = np.diff(x) # discrete 1st derivative\n",
        "    zc = np.diff(np.sign(dx)) # zero-crossings of dx\n",
        "    m = 1 + np.where(zc == -2)[0] # indices of local max.\n",
        "    return m"
      ],
      "execution_count": null,
      "outputs": []
    },
    {
      "cell_type": "code",
      "metadata": {
        "id": "HKPhWXfWK8JC",
        "colab": {
          "base_uri": "https://localhost:8080/"
        },
        "outputId": "8060eeb8-9d13-47de-d9a9-311e94edf272"
      },
      "source": [
        "peaks = locmax(gfp)\n",
        "eeg_data1=eeg_data.T\n",
        "ip_eeg=eeg_data[:,peaks]\n",
        "ip_eeg1=ip_eeg.T\n",
        "learn_rate=0.24\n",
        "\n",
        "\n",
        "minValue = np.amin(ip_eeg)\n",
        "maxValue=np.amax(ip_eeg)\n",
        "for op in range(8,11):\n",
        "  wt=np.random.randint(minValue,maxValue,size=(32,op))\n",
        "  wt=wt.astype(np.float)\n",
        "\n",
        "  t=1\n",
        "  gev=0\n",
        "  total_epochs=200\n",
        "  for epochs in range(total_epochs):\n",
        "    #print(\"epoch: \",epochs)\n",
        "    for ele in range(peaks.size):\n",
        "      d=[]\n",
        "      for i in range(op):\n",
        "        temp=0\n",
        "        for j in range(32):\n",
        "          temp+=(wt[j][i]-ip_eeg1[ele][j])**2   \n",
        "        temp=math.sqrt(temp)\n",
        "        d.append(temp)\n",
        "      d=np.array(d)\n",
        "      dmin=np.argmin(d)\n",
        "      wt1=wt\n",
        "      sigma_t = 1*math.exp(-1*t/(total_epochs*peaks.size))\n",
        "      for k in range(32):\n",
        "        wt1[k][dmin]=wt[k][dmin]+math.sqrt(abs(learn_rate**2 - (t/(total_epochs*peaks.size))**2))*(ip_eeg1[ele][k]-wt[k][dmin])*math.exp(-1*dmin*dmin/(2*(sigma_t*sigma_t)))\n",
        "      sofm_maps=wt1.T\n",
        "      t=t+1\n",
        "      sofm_maps /= np.linalg.norm(sofm_maps, axis=1, keepdims=True) \n",
        "\n",
        "      gfp_sum_sq=np.sum(gfp**2)\n",
        "      activation=sofm_maps.dot(eeg_data)\n",
        "      seg=np.argmax(np.abs(activation),axis=0)\n",
        "      map_corr=_corr_vectors(eeg_data,sofm_maps[seg].T)\n",
        "      gev_sofm=sum((gfp*map_corr)**2)/gfp_sum_sq\n",
        "      if((gev<gev_sofm)):\n",
        "        wt=wt1\n",
        "        gev=gev_sofm    \n",
        "        seg_final=seg\n",
        "        maps=sofm_maps\n",
        "    #print(gev)\n",
        "  print('')\n",
        "  print('')\n",
        "  print(\"GEV for \",op,\" clusters: \",gev)\n",
        "  #plot_maps(maps,info)\n"
      ],
      "execution_count": null,
      "outputs": [
        {
          "output_type": "stream",
          "text": [
            "\n",
            "\n",
            "GEV for  8  clusters:  0.6177661037883359\n",
            "\n",
            "\n",
            "GEV for  9  clusters:  0.6119485598248451\n",
            "\n",
            "\n",
            "GEV for  10  clusters:  0.6111486048100122\n"
          ],
          "name": "stdout"
        }
      ]
    },
    {
      "cell_type": "code",
      "metadata": {
        "id": "wZe3vJ-ORdZl"
      },
      "source": [
        "#np.set_printoptions(threshold=sys.maxsize)\n",
        "#print(seg)"
      ],
      "execution_count": null,
      "outputs": []
    }
  ]
}